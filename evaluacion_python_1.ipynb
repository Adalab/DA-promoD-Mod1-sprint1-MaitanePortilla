{
 "cells": [
  {
   "attachments": {},
   "cell_type": "markdown",
   "metadata": {},
   "source": [
    "**Métodos de *strings***\n",
    "\n",
    "Dado el siguiente *string* \n",
    "\n",
    "```python\n",
    "\n",
    "string = \"\"\"Hoy estamos en una clase de repaso,\n",
    "el objetivo es intentar solucionar todas vuestras dudas, \n",
    "preguntad todo lo que queráis! \n",
    "\"\"\"\n",
    "```\n",
    "\n",
    "\n",
    "Contesta a las siguientes preguntas: \n",
    "\n",
    "1️⃣ Crea dos variables nuevas: \n",
    "    - Una con el *string* en mayúsculas\n",
    "    - Otra con las letras en minúsculas\n",
    "\n",
    "2️⃣ Pon todas las primeras letras del *string* en mayúscula\n",
    "\n",
    "3️⃣ Separa el *string*  por los espacios y almacena el resultado en una lista llamanda `texto_lista`\n",
    "\n",
    "4️⃣ De la lista obtenida en el ejercicio anterior, selecciona solo los 5 primero elementos y almacena los resultados en una variable que se llame `texto_lista_corta` \n",
    "\n",
    "5️⃣ De la lista obtenida en el ejercicio 5. Vuelve a convertirlo en *string* \n",
    "\n",
    "6️⃣ Con el *string* obtenido en el paso anterior: \n",
    "\n",
    "    - Esta la palabra \"el\" en el *string* \n",
    "\n",
    "    - Reemplaza \"Hoy\" por nada\n",
    "\n",
    "    - El ejercicio anterior nos ha dejado espacios al inicio del string, eliminalos\n"
   ]
  },
  {
   "cell_type": "code",
   "execution_count": 249,
   "metadata": {},
   "outputs": [
    {
     "data": {
      "text/plain": [
       "'Hoy estamos en una clase de repaso,\\nel objetivo es intentar solucionar todas vuestras dudas, \\npreguntad todo lo que queráis! \\n'"
      ]
     },
     "execution_count": 249,
     "metadata": {},
     "output_type": "execute_result"
    }
   ],
   "source": [
    "# Creo la variable string y la printeo\n",
    "string = \"\"\"Hoy estamos en una clase de repaso,\n",
    "el objetivo es intentar solucionar todas vuestras dudas, \n",
    "preguntad todo lo que queráis! \n",
    "\"\"\"\n",
    "string"
   ]
  },
  {
   "cell_type": "code",
   "execution_count": 250,
   "metadata": {},
   "outputs": [
    {
     "data": {
      "text/plain": [
       "'HOY ESTAMOS EN UNA CLASE DE REPASO,\\nEL OBJETIVO ES INTENTAR SOLUCIONAR TODAS VUESTRAS DUDAS, \\nPREGUNTAD TODO LO QUE QUERÁIS! \\n'"
      ]
     },
     "execution_count": 250,
     "metadata": {},
     "output_type": "execute_result"
    }
   ],
   "source": [
    "# EJERCICIO 1️⃣. Crea dos variables nuevas: \n",
    "#    - Una con el string en mayúsculas\n",
    "\n",
    "string_mayus = string.upper()\n",
    "string_mayus"
   ]
  },
  {
   "cell_type": "code",
   "execution_count": 251,
   "metadata": {},
   "outputs": [
    {
     "data": {
      "text/plain": [
       "'hoy estamos en una clase de repaso,\\nel objetivo es intentar solucionar todas vuestras dudas, \\npreguntad todo lo que queráis! \\n'"
      ]
     },
     "execution_count": 251,
     "metadata": {},
     "output_type": "execute_result"
    }
   ],
   "source": [
    "#    - Otra con las letras en minúsculas\n",
    "string_minus = string.lower()\n",
    "string_minus"
   ]
  },
  {
   "cell_type": "code",
   "execution_count": 252,
   "metadata": {},
   "outputs": [
    {
     "data": {
      "text/plain": [
       "'Hoy Estamos En Una Clase De Repaso,\\nEl Objetivo Es Intentar Solucionar Todas Vuestras Dudas, \\nPreguntad Todo Lo Que Queráis! \\n'"
      ]
     },
     "execution_count": 252,
     "metadata": {},
     "output_type": "execute_result"
    }
   ],
   "source": [
    "# EJERCICIO 2️⃣. Pon todas las primeras letras del string en mayúscula\n",
    "# E2.1. Si solo queremos que nos lo devuelva pero no lo guarde\n",
    "string.title() "
   ]
  },
  {
   "cell_type": "code",
   "execution_count": 253,
   "metadata": {},
   "outputs": [
    {
     "data": {
      "text/plain": [
       "'Hoy Estamos En Una Clase De Repaso,\\nEl Objetivo Es Intentar Solucionar Todas Vuestras Dudas, \\nPreguntad Todo Lo Que Queráis! \\n'"
      ]
     },
     "execution_count": 253,
     "metadata": {},
     "output_type": "execute_result"
    }
   ],
   "source": [
    "# E2.2. Si queremos guardarlo modificado habría que crear otra variable\n",
    "string_titulo = string.title()\n",
    "string_titulo"
   ]
  },
  {
   "cell_type": "code",
   "execution_count": 254,
   "metadata": {},
   "outputs": [
    {
     "data": {
      "text/plain": [
       "['Hoy',\n",
       " 'estamos',\n",
       " 'en',\n",
       " 'una',\n",
       " 'clase',\n",
       " 'de',\n",
       " 'repaso,',\n",
       " 'el',\n",
       " 'objetivo',\n",
       " 'es',\n",
       " 'intentar',\n",
       " 'solucionar',\n",
       " 'todas',\n",
       " 'vuestras',\n",
       " 'dudas,',\n",
       " 'preguntad',\n",
       " 'todo',\n",
       " 'lo',\n",
       " 'que',\n",
       " 'queráis!']"
      ]
     },
     "execution_count": 254,
     "metadata": {},
     "output_type": "execute_result"
    }
   ],
   "source": [
    "# EJERCICIO 3️⃣ Separa el string  por los espacios y almacena el resultado en una lista llamanda `texto_lista`\n",
    "texto_lista = string.split()\n",
    "texto_lista"
   ]
  },
  {
   "cell_type": "code",
   "execution_count": 255,
   "metadata": {},
   "outputs": [
    {
     "data": {
      "text/plain": [
       "['Hoy', 'estamos', 'en', 'una', 'clase']"
      ]
     },
     "execution_count": 255,
     "metadata": {},
     "output_type": "execute_result"
    }
   ],
   "source": [
    "# EJERCICO 4️⃣ De la lista obtenida en el ejercicio anterior, selecciona solo los 5 primero elementos y almacena los resultados en una variable que se llame `texto_lista_corta` \n",
    "texto_lista_corta = texto_lista[0:5]\n",
    "texto_lista_corta"
   ]
  },
  {
   "cell_type": "code",
   "execution_count": 256,
   "metadata": {},
   "outputs": [
    {
     "data": {
      "text/plain": [
       "'Hoy estamos en una clase de repaso, el objetivo es intentar solucionar todas vuestras dudas, preguntad todo lo que queráis!'"
      ]
     },
     "execution_count": 256,
     "metadata": {},
     "output_type": "execute_result"
    }
   ],
   "source": [
    "# EJERCICIO 5️⃣ De la lista obtenida en el ejercicio 5. Vuelve a convertirlo en string. \n",
    "# Entiendo que por ejercicio 5 se refiere al ejercicio 3.\n",
    "string2 = \" \".join(texto_lista)\n",
    "string2"
   ]
  },
  {
   "cell_type": "code",
   "execution_count": 257,
   "metadata": {},
   "outputs": [
    {
     "data": {
      "text/plain": [
       "True"
      ]
     },
     "execution_count": 257,
     "metadata": {},
     "output_type": "execute_result"
    }
   ],
   "source": [
    "# EJERCICIO 6️⃣ Con el string obtenido en el paso anterior: \n",
    "#    E6.1. ¿Está la palabra \"el\" en el string?\n",
    "\"el\" in string2 # para saber si está\n"
   ]
  },
  {
   "cell_type": "code",
   "execution_count": 258,
   "metadata": {},
   "outputs": [
    {
     "name": "stdout",
     "output_type": "stream",
     "text": [
      "La palabra \"el\" está en la posición 36 de string2\n"
     ]
    }
   ],
   "source": [
    "# También podemos sacar la posición (si no estuviera nos daría posiciónn -1)\n",
    "posicion_el = string2.find('el')\n",
    "print(f'La palabra \"el\" está en la posición {posicion_el} de string2')"
   ]
  },
  {
   "cell_type": "code",
   "execution_count": 259,
   "metadata": {},
   "outputs": [
    {
     "data": {
      "text/plain": [
       "' estamos en una clase de repaso, el objetivo es intentar solucionar todas vuestras dudas, preguntad todo lo que queráis!'"
      ]
     },
     "execution_count": 259,
     "metadata": {},
     "output_type": "execute_result"
    }
   ],
   "source": [
    "#    E6.2. Reemplaza \"Hoy\" por nada\n",
    "#           E6.2.a) Si solo queremos que nos lo devuelva pero no lo guarde\n",
    "string2.replace('Hoy', '')"
   ]
  },
  {
   "cell_type": "code",
   "execution_count": 260,
   "metadata": {},
   "outputs": [
    {
     "data": {
      "text/plain": [
       "' estamos en una clase de repaso, el objetivo es intentar solucionar todas vuestras dudas, preguntad todo lo que queráis!'"
      ]
     },
     "execution_count": 260,
     "metadata": {},
     "output_type": "execute_result"
    }
   ],
   "source": [
    "#           E6.2.b) SSi queremos guardarlo modificado habría que crear otra variable\n",
    "string_reemplazado = string2.replace('Hoy', '')\n",
    "string_reemplazado"
   ]
  },
  {
   "cell_type": "code",
   "execution_count": 261,
   "metadata": {},
   "outputs": [
    {
     "data": {
      "text/plain": [
       "'estamos en una clase de repaso, el objetivo es intentar solucionar todas vuestras dudas, preguntad todo lo que queráis!'"
      ]
     },
     "execution_count": 261,
     "metadata": {},
     "output_type": "execute_result"
    }
   ],
   "source": [
    "#    E6.3. El ejercicio anterior nos ha dejado espacios al inicio del string, eliminalos\n",
    "#           E6.3.a) Si solo queremos que nos lo devuelva pero no lo guarde\n",
    "string_reemplazado.strip()"
   ]
  },
  {
   "cell_type": "code",
   "execution_count": 262,
   "metadata": {},
   "outputs": [
    {
     "data": {
      "text/plain": [
       "'estamos en una clase de repaso, el objetivo es intentar solucionar todas vuestras dudas, preguntad todo lo que queráis!'"
      ]
     },
     "execution_count": 262,
     "metadata": {},
     "output_type": "execute_result"
    }
   ],
   "source": [
    "#           E6.3.b) SSi queremos guardarlo modificado habría que crear otra variable\n",
    "string_sin_espacios = string_reemplazado.strip()\n",
    "string_sin_espacios"
   ]
  },
  {
   "attachments": {},
   "cell_type": "markdown",
   "metadata": {},
   "source": [
    "**Encuentra el número que no está en la lista**\n",
    "\n",
    "Tenemos una lista desordenada con números positivos de 1 a n. Siempre faltará un sólo número de esta lista aleatoria, ¿cómo identifico cuál falta? Cread un programa para que este código devuelva los resultados deseados:\n",
    "\n",
    "```python\n",
    "lista1 = [3,7,1,2,8,4,5] # nos tiene que devolver 6\n",
    "lista2 = [4,6,1,3,5] #  nos tiene que devolver 2\n",
    "lista3 = [34,35,36,38,39,40] # nos tiene que devolver 37\n",
    "```\n",
    "\n",
    "BONUS: Introduce los resultados obtenidos en un diccionario, indicando que numero falta para cada una de las listas:\n",
    "```python\n",
    "# por ejemplo\n",
    "\n",
    "resultados = {'falta_lista_1': valor_numerico_1, 'falta_lista_2': valor_numerico_2, 'falta_lista_3': valor_numerico_3}\n",
    "```"
   ]
  },
  {
   "cell_type": "code",
   "execution_count": 263,
   "metadata": {},
   "outputs": [],
   "source": [
    "lista1 = [3,7,1,2,8,4,5]\n",
    "lista2 = [4,6,1,3,5] \n",
    "lista3 = [34,35,36,38,39,40]\n"
   ]
  },
  {
   "cell_type": "code",
   "execution_count": 264,
   "metadata": {},
   "outputs": [
    {
     "name": "stdout",
     "output_type": "stream",
     "text": [
      "El número 1 está en la lista llamada \"lista1\"\n",
      "El número 2 está en la lista llamada \"lista1\"\n",
      "El número 3 está en la lista llamada \"lista1\"\n",
      "El número 4 está en la lista llamada \"lista1\"\n",
      "El número 5 está en la lista llamada \"lista1\"\n",
      "El número 6 es el que FALTA en la lista llamada \"lista1\"\n"
     ]
    }
   ],
   "source": [
    "# para la lista1:\n",
    "min1 = min(lista1)\n",
    "max1 = max(lista1)\n",
    "\n",
    "for i in range(min1,(max1+1)):\n",
    "    if i in lista1:\n",
    "        print(f'El número {i} está en la lista llamada \"lista1\"')\n",
    "    else:\n",
    "        valor_numerico1 = i # creo la variable para el bonus\n",
    "        print(f'El número {i} es el que FALTA en la lista llamada \"lista1\"')\n",
    "        break"
   ]
  },
  {
   "cell_type": "code",
   "execution_count": 265,
   "metadata": {},
   "outputs": [
    {
     "name": "stdout",
     "output_type": "stream",
     "text": [
      "El número 2 es el que FALTA en la lista llamada \"lista2\"\n"
     ]
    }
   ],
   "source": [
    "# para la lista2:\n",
    "min2 = min(lista2)\n",
    "max2 = max(lista2)\n",
    "\n",
    "for num in range(min2,(max2+1)):\n",
    "    if num in lista2:\n",
    "        pass\n",
    "    else:\n",
    "        valor_numerico2 = num # creo la variable para el bonus\n",
    "        print(f'El número {num} es el que FALTA en la lista llamada \"lista2\"')\n",
    "        break"
   ]
  },
  {
   "cell_type": "code",
   "execution_count": 266,
   "metadata": {},
   "outputs": [
    {
     "name": "stdout",
     "output_type": "stream",
     "text": [
      "El número 37 es el que FALTA en la lista llamada \"lista3\"\n"
     ]
    }
   ],
   "source": [
    "# para la lista3:\n",
    "min3 = min(lista3)\n",
    "max3 = max(lista3)\n",
    "\n",
    "for num in range(min3,(max3+1)):\n",
    "    if num in lista3:\n",
    "        continue\n",
    "    else:\n",
    "        valor_numerico3 = num # creo la variable para el bonus\n",
    "        print(f'El número {num} es el que FALTA en la lista llamada \"lista3\"')\n",
    "        break"
   ]
  },
  {
   "cell_type": "code",
   "execution_count": 267,
   "metadata": {},
   "outputs": [
    {
     "data": {
      "text/plain": [
       "{'falta_lista_1': 6, 'falta_lista2': 2, 'falta_lista3': 37}"
      ]
     },
     "execution_count": 267,
     "metadata": {},
     "output_type": "execute_result"
    }
   ],
   "source": [
    "# BONUS. Introduce los resultados obtenidos en un diccionario, indicando que numero falta para cada una de las listas:\n",
    "resultados = {'falta_lista_1': valor_numerico1, 'falta_lista2': valor_numerico2, 'falta_lista3' : valor_numerico3}\n",
    "resultados"
   ]
  },
  {
   "cell_type": "markdown",
   "metadata": {},
   "source": [
    "**Mover los ceros a la izquierda**\n",
    "\n",
    "Nos dan un *string* con números aleatorios. Algunos de ellos son 0. Encuentra todos los ceros y ponlos al principio de la lista, manteniendo el orden de los demás números.\n",
    "\n",
    "Ejemplo:\n",
    "\n",
    "```python\n",
    "A = [1,10,88,0,59,63,0,20,0]\n",
    "\n",
    "# tiene que devolver\n",
    "[0, 0, 0, 1, 10, 88, 59, 63, 20]\n",
    "```"
   ]
  },
  {
   "cell_type": "code",
   "execution_count": 268,
   "metadata": {},
   "outputs": [],
   "source": [
    "A = [1,10,88,0,59,63,0,20,0]"
   ]
  },
  {
   "cell_type": "code",
   "execution_count": 269,
   "metadata": {},
   "outputs": [
    {
     "data": {
      "text/plain": [
       "[0, 0, 0, 1, 10, 88, 59, 63, 20]"
      ]
     },
     "execution_count": 269,
     "metadata": {},
     "output_type": "execute_result"
    }
   ],
   "source": [
    "# usando dos for loops\n",
    "A_ord = []\n",
    "for i in A:\n",
    "    if i == 0:\n",
    "        A_ord.append(i)\n",
    "for i in A:\n",
    "    if i != 0:\n",
    "        A_ord.append(i)\n",
    "\n",
    "A_ord"
   ]
  },
  {
   "cell_type": "code",
   "execution_count": 270,
   "metadata": {},
   "outputs": [
    {
     "data": {
      "text/plain": [
       "[0, 0, 0, 1, 10, 88, 59, 63, 20]"
      ]
     },
     "execution_count": 270,
     "metadata": {},
     "output_type": "execute_result"
    }
   ],
   "source": [
    "# con dos list comprehensions\n",
    "A_ord2 = [i for i in A if i == 0]\n",
    "A_ord2 += [i for i in A if i != 0]\n",
    "A_ord2\n"
   ]
  },
  {
   "cell_type": "markdown",
   "metadata": {},
   "source": [
    "**Invertir palabras de una frase**\n",
    "\n",
    "Nos dan una frase en que quieren que las letras de cada palabra acaben teniendo el orden invertido, manteniendo el orden de las palabras.\n",
    "\n",
    "```python\n",
    "frase = 'Hola Ada'\n",
    "print(frase) # nos daría 'aloH adA'\n",
    "```"
   ]
  },
  {
   "cell_type": "code",
   "execution_count": 271,
   "metadata": {},
   "outputs": [
    {
     "data": {
      "text/plain": [
       "['Hola', 'Ada']"
      ]
     },
     "execution_count": 271,
     "metadata": {},
     "output_type": "execute_result"
    }
   ],
   "source": [
    "# pasamos el string a lista separando por los espacios\n",
    "frase = 'Hola Ada'\n",
    "lista = frase.split()\n",
    "lista"
   ]
  },
  {
   "cell_type": "code",
   "execution_count": 272,
   "metadata": {},
   "outputs": [
    {
     "data": {
      "text/plain": [
       "['aloH', 'adA']"
      ]
     },
     "execution_count": 272,
     "metadata": {},
     "output_type": "execute_result"
    }
   ],
   "source": [
    "# hacemos un bucle for para iterar por la lista y dar la vuelta a cada elemento de la lista, metiendo luego cada elemento dado la vuelta a una nueva lista\n",
    "lista_reves = []\n",
    "for i in lista:\n",
    "    lista_reves.append(i[::-1])\n",
    "lista_reves"
   ]
  },
  {
   "cell_type": "code",
   "execution_count": 273,
   "metadata": {},
   "outputs": [
    {
     "data": {
      "text/plain": [
       "'aloH adA'"
      ]
     },
     "execution_count": 273,
     "metadata": {},
     "output_type": "execute_result"
    }
   ],
   "source": [
    "# cogemos la lista con los elementos del revés y la volvemos a unir en un único string separando con espacios cada elemento de la lista\n",
    "frase_reves = \" \".join(lista_reves)\n",
    "frase_reves"
   ]
  },
  {
   "cell_type": "code",
   "execution_count": 274,
   "metadata": {},
   "outputs": [
    {
     "data": {
      "text/plain": [
       "'aloH adA'"
      ]
     },
     "execution_count": 274,
     "metadata": {},
     "output_type": "execute_result"
    }
   ],
   "source": [
    "# En lugar del for loop podríamos haber usado una list comprehension\n",
    "frase_c = 'Hola Ada'\n",
    "lista_c = frase_c.split()\n",
    "lista_reves_c = [i[::-1] for i in lista_c]\n",
    "frase_c_reves = \" \".join(lista_reves_c)\n",
    "frase_c_reves"
   ]
  },
  {
   "cell_type": "code",
   "execution_count": 275,
   "metadata": {},
   "outputs": [
    {
     "name": "stdout",
     "output_type": "stream",
     "text": [
      "['Hola', 'Ada']\n"
     ]
    }
   ],
   "source": [
    "# Tras hacer lo anterior (que no sé si la parte de i[::-1] la vimos en clase, (tuve que buscar en google soluciones) \n",
    "# he pensado que quizá se pedía algo como esto aunque sea más largo:\n",
    "frase_3 = 'Hola Ada'\n",
    "lista_3 = frase_3.split()\n",
    "print(lista_3)\n",
    "lista_reves_3 = []"
   ]
  },
  {
   "cell_type": "code",
   "execution_count": 276,
   "metadata": {},
   "outputs": [
    {
     "data": {
      "text/plain": [
       "['aloH', 'adA']"
      ]
     },
     "execution_count": 276,
     "metadata": {},
     "output_type": "execute_result"
    }
   ],
   "source": [
    "for palabra in lista_3:\n",
    "    if isinstance(palabra, str): # programacion defensiva\n",
    "        palabra_lista = list(palabra) #convertimos cada elemento de la lista en otra lista\n",
    "        palabra_lista.reverse() #le damos la vuelta a cada lista dentro de la lista\n",
    "        palabra_reves = ''.join(palabra_lista) #juntamos otra vez cada lista dentro de la lista en un string\n",
    "        lista_reves_3.append(palabra_reves) #metemos en la lista al reves cada string, quedando en su posición orginal pero girado\n",
    "    else:\n",
    "        print ('El elemento {palabra} no es un string')\n",
    "lista_reves_3"
   ]
  },
  {
   "cell_type": "code",
   "execution_count": 277,
   "metadata": {},
   "outputs": [
    {
     "data": {
      "text/plain": [
       "'aloH adA'"
      ]
     },
     "execution_count": 277,
     "metadata": {},
     "output_type": "execute_result"
    }
   ],
   "source": [
    "frase_3_reves = ' '.join(lista_reves_3) # volvemos a juntar todo en un único string\n",
    "frase_3_reves"
   ]
  },
  {
   "attachments": {},
   "cell_type": "markdown",
   "metadata": {},
   "source": [
    "###  ¿Es un DNI valido?\n",
    "\n",
    "Los DNI españoles pueden ser:\n",
    "\n",
    "- NIF (Numero de Identificación Fiscal) - 8 numeros y una letra, o\n",
    "- NIE (Numero de Identificación de Extranjeros) - 1 letra, 7 numeros y 1 letra."
   ]
  },
  {
   "cell_type": "code",
   "execution_count": 18,
   "metadata": {},
   "outputs": [],
   "source": [
    "lista_dni = [\"X-1234567-Z\", \"X-1234567\", \"12345678-M\", \"1234567-T\", \"12345677\"] "
   ]
  },
  {
   "cell_type": "code",
   "execution_count": 19,
   "metadata": {},
   "outputs": [
    {
     "name": "stdout",
     "output_type": "stream",
     "text": [
      "X-1234567-Z contiene caracteres no alphanumericos que se van a eliminar a continuación\n",
      "X-1234567 contiene caracteres no alphanumericos que se van a eliminar a continuación\n",
      "12345678-M contiene caracteres no alphanumericos que se van a eliminar a continuación\n",
      "1234567-T contiene caracteres no alphanumericos que se van a eliminar a continuación\n"
     ]
    },
    {
     "data": {
      "text/plain": [
       "['X1234567Z', 'X1234567', '12345678M', '1234567T', '12345677']"
      ]
     },
     "execution_count": 19,
     "metadata": {},
     "output_type": "execute_result"
    }
   ],
   "source": [
    "# Eliminamos los guiones y puntos que pudieran tener para facilitar el tratado de los datos y su identificación como DNI válido:\n",
    "lista_dni2 = []\n",
    "for i in lista_dni:\n",
    "    if i.isalnum(): # comprueba si solo tiene caracteres alphanumericos\n",
    "        lista_dni2.append(i)\n",
    "    else:\n",
    "        print(f'{i} contiene caracteres no alphanumericos que se van a eliminar a continuación')\n",
    "        dni = i.replace('-', '').replace('.', '')\n",
    "        lista_dni2.append(dni)\n",
    "lista_dni2"
   ]
  },
  {
   "cell_type": "code",
   "execution_count": 20,
   "metadata": {},
   "outputs": [
    {
     "name": "stdout",
     "output_type": "stream",
     "text": [
      "X1234567Z tiene 9 dígitos, podría ser un DNI válido\n",
      "X1234567 no es un DNI válido, es demasiado corto\n",
      "12345678M tiene 9 dígitos, podría ser un DNI válido\n",
      "1234567T no es un DNI válido, es demasiado corto\n",
      "12345677 no es un DNI válido, es demasiado corto\n",
      "Lista de DNI no validos por su longitud: ['X1234567', '1234567T', '12345677']\n",
      "Lista de DNI con longitud válida: ['X1234567Z', '12345678M']\n"
     ]
    }
   ],
   "source": [
    "# Con un for loop evaluamos si la longitud es adecuada a un DNI o no y lo printeamos\n",
    "lista_long_no_valida = []\n",
    "lista_long_valida = []\n",
    "for i in lista_dni2:\n",
    "    if len(i) < 9:\n",
    "        print(f'{i} no es un DNI válido, es demasiado corto')\n",
    "        lista_long_no_valida.append(i)\n",
    "    elif len(i) > 9:\n",
    "        print(f'{i} no es un DNI válido, es demasiado largo')\n",
    "        lista_long_no_valida.append(i)\n",
    "    else:\n",
    "        print(f'{i} tiene 9 dígitos, podría ser un DNI válido')\n",
    "        lista_long_valida.append(i)\n",
    "print(f'Lista de DNI no validos por su longitud: {lista_long_no_valida}')\n",
    "print(f'Lista de DNI con longitud válida: {lista_long_valida}')"
   ]
  },
  {
   "cell_type": "code",
   "execution_count": 23,
   "metadata": {},
   "outputs": [
    {
     "name": "stdout",
     "output_type": "stream",
     "text": [
      "El elemento X1234567Z es un DNI válido\n",
      "El elemento 12345678M es un DNI válido\n"
     ]
    }
   ],
   "source": [
    "# con otro for loop evaluamos que los caracteres 2-8 sean números y el noveno sea una letra\n",
    "for i in lista_long_valida:\n",
    "    if i[1].isdigit() and i[2].isdigit() and i[3].isdigit() and i[4].isdigit() and i[5].isdigit() and i[6].isdigit() and i[7].isdigit() and i[-1].isalpha():\n",
    "        print(f'El elemento {i} es un DNI válido')\n",
    "    else:\n",
    "        print(f'{i} no es un DNI válido')"
   ]
  },
  {
   "attachments": {},
   "cell_type": "markdown",
   "metadata": {},
   "source": [
    "**BONUS: Encuentra los k números más cerca a X**\n",
    "\n",
    "\n",
    "Haz una programa que compare los contenidos de una lista a un número dado X. Queremos que nos devuelva los k números que son más parecidos al número dado.\n",
    "\n",
    "Ejemplo:\n",
    "```python\n",
    "L = [4, 19, -5, 100, 53, 43, 74, -83, 13.5, 26]\n",
    "# Dados los siguientes valores \n",
    "x =30\n",
    "k = 3 # el número de números que tendremos que buscar en la lista que se parecen a 30 \n",
    "# El output debería ser igual a [26, 19, 43]\n",
    "```"
   ]
  },
  {
   "cell_type": "code",
   "execution_count": 37,
   "metadata": {},
   "outputs": [],
   "source": [
    "L = [4, 19, -5, 100, 53, 43, 74, -83, 13.5, 26]\n",
    "x = 30\n",
    "k = 3"
   ]
  },
  {
   "cell_type": "code",
   "execution_count": 38,
   "metadata": {},
   "outputs": [
    {
     "name": "stdout",
     "output_type": "stream",
     "text": [
      "[26, 11, 35, 70, 23, 13, 44, 113, 16.5, 4]\n"
     ]
    }
   ],
   "source": [
    "# Creamos una lista con las diferencias en valor absoluto entre nuestro número x=30 y los valores de la lista L\n",
    "lista_restas_abs = []\n",
    "for i in L:\n",
    "    resta_abs = abs(x - i)\n",
    "    lista_restas_abs.append(resta_abs)\n",
    "\n",
    "print(lista_restas_abs)"
   ]
  },
  {
   "cell_type": "code",
   "execution_count": 39,
   "metadata": {},
   "outputs": [
    {
     "data": {
      "text/plain": [
       "[(26, 4),\n",
       " (11, 19),\n",
       " (35, -5),\n",
       " (70, 100),\n",
       " (23, 53),\n",
       " (13, 43),\n",
       " (44, 74),\n",
       " (113, -83),\n",
       " (16.5, 13.5),\n",
       " (4, 26)]"
      ]
     },
     "execution_count": 39,
     "metadata": {},
     "output_type": "execute_result"
    }
   ],
   "source": [
    "# Creamos un zip con las diferencias y la lista L (y convertimos el zip en lista) \n",
    "zip1 = zip(lista_restas_abs, L)\n",
    "zip_list = list(zip1)\n",
    "zip_list"
   ]
  },
  {
   "cell_type": "code",
   "execution_count": 40,
   "metadata": {},
   "outputs": [
    {
     "data": {
      "text/plain": [
       "[(4, 26),\n",
       " (11, 19),\n",
       " (13, 43),\n",
       " (16.5, 13.5),\n",
       " (23, 53),\n",
       " (26, 4),\n",
       " (35, -5),\n",
       " (44, 74),\n",
       " (70, 100),\n",
       " (113, -83)]"
      ]
     },
     "execution_count": 40,
     "metadata": {},
     "output_type": "execute_result"
    }
   ],
   "source": [
    "# Ordenamos el zip por los valores absolutos de las diferencias\n",
    "zip_list.sort()\n",
    "zip_list"
   ]
  },
  {
   "cell_type": "code",
   "execution_count": 44,
   "metadata": {},
   "outputs": [
    {
     "name": "stdout",
     "output_type": "stream",
     "text": [
      "Los 3 elementos de la lista L = [4, 19, -5, 100, 53, 43, 74, -83, 13.5, 26] más cercanos a 30 son: [26, 19, 43]\n"
     ]
    }
   ],
   "source": [
    "# Extraemos los resultados de la lista en base al número de resultados deseado utilizando un rango\n",
    "resultados_cercanos = [zip_list[i][1]for i in range(k)]\n",
    "print(f'Los {k} elementos de la lista L = {L} más cercanos a {x} son: {resultados_cercanos}')\n",
    "    "
   ]
  }
 ],
 "metadata": {
  "kernelspec": {
   "display_name": "adalabenv",
   "language": "python",
   "name": "python3"
  },
  "language_info": {
   "codemirror_mode": {
    "name": "ipython",
    "version": 3
   },
   "file_extension": ".py",
   "mimetype": "text/x-python",
   "name": "python",
   "nbconvert_exporter": "python",
   "pygments_lexer": "ipython3",
   "version": "3.10.9"
  },
  "orig_nbformat": 4,
  "vscode": {
   "interpreter": {
    "hash": "982f2751c33df6248463c13acbc6212f8872fb2f983edea342e7641fdc0e9b5d"
   }
  }
 },
 "nbformat": 4,
 "nbformat_minor": 2
}
